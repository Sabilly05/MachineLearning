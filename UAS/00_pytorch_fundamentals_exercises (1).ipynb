{
  "nbformat": 4,
  "nbformat_minor": 0,
  "metadata": {
    "colab": {
      "provenance": []
    },
    "kernelspec": {
      "name": "python3",
      "display_name": "Python 3"
    },
    "language_info": {
      "name": "python"
    },
    "accelerator": "GPU"
  },
  "cells": [
    {
      "cell_type": "markdown",
      "source": [
        "# 00. PyTorch Fundamentals Exercises\n",
        "\n",
        "### 1. Documentation reading\n",
        "\n",
        "A big part of deep learning (and learning to code in general) is getting familiar with the documentation of a certain framework you're using. We'll be using the PyTorch documentation a lot throughout the rest of this course. So I'd recommend spending 10-minutes reading the following (it's okay if you don't get some things for now, the focus is not yet full understanding, it's awareness):\n",
        "  * The documentation on [`torch.Tensor`](https://pytorch.org/docs/stable/tensors.html#torch-tensor).\n",
        "  * The documentation on [`torch.cuda`](https://pytorch.org/docs/master/notes/cuda.html#cuda-semantics).\n",
        "\n"
      ],
      "metadata": {
        "id": "AzDBM_v4iMe7"
      }
    },
    {
      "cell_type": "code",
      "source": [
        "# No code solution (reading)"
      ],
      "metadata": {
        "id": "bGD0oD8Kizak"
      },
      "execution_count": null,
      "outputs": []
    },
    {
      "cell_type": "markdown",
      "source": [
        "### 2. Create a random tensor with shape `(7, 7)`.\n"
      ],
      "metadata": {
        "id": "__iXqqz-ioUJ"
      }
    },
    {
      "cell_type": "code",
      "source": [
        "# Import torch\n",
        "import torch\n",
        "\n",
        "# Create random tensor\n",
        "X = torch.rand(size=(7, 7))\n",
        "X, X.shape"
      ],
      "metadata": {
        "id": "6pUq9Dc8i2L7",
        "colab": {
          "base_uri": "https://localhost:8080/"
        },
        "outputId": "2f814f7a-202f-4d67-8bde-6e2ef14b23e2"
      },
      "execution_count": 1,
      "outputs": [
        {
          "output_type": "execute_result",
          "data": {
            "text/plain": [
              "(tensor([[0.7742, 0.0020, 0.9249, 0.8543, 0.7073, 0.2626, 0.1466],\n",
              "         [0.9163, 0.9705, 0.2503, 0.3981, 0.2383, 0.1369, 0.1985],\n",
              "         [0.3353, 0.9260, 0.1565, 0.3908, 0.3866, 0.6408, 0.2934],\n",
              "         [0.6044, 0.4636, 0.3981, 0.1052, 0.8188, 0.5964, 0.3305],\n",
              "         [0.8456, 0.7010, 0.0847, 0.5709, 0.0108, 0.6307, 0.6894],\n",
              "         [0.4637, 0.6537, 0.9747, 0.4815, 0.8186, 0.1440, 0.8334],\n",
              "         [0.7788, 0.5819, 0.6793, 0.2141, 0.6950, 0.7259, 0.9879]]),\n",
              " torch.Size([7, 7]))"
            ]
          },
          "metadata": {},
          "execution_count": 1
        }
      ]
    },
    {
      "cell_type": "markdown",
      "source": [
        "melakukan import torch dan membuat random tensor 7x7"
      ],
      "metadata": {
        "id": "ACxiryoX-l84"
      }
    },
    {
      "cell_type": "markdown",
      "source": [
        "### 3. Perform a matrix multiplication on the tensor from 2 with another random tensor with shape `(1, 7)` (hint: you may have to transpose the second tensor)."
      ],
      "metadata": {
        "id": "9-XxvRLfiqkR"
      }
    },
    {
      "cell_type": "code",
      "source": [
        "# Create another random tensor\n",
        "Y = torch.rand(size=(1, 7))\n",
        "Z = torch.matmul(X, Y.T) # no error because of transpose\n",
        "Z, Z.shape\n"
      ],
      "metadata": {
        "id": "NcLqR0Sbi_vT",
        "colab": {
          "base_uri": "https://localhost:8080/"
        },
        "outputId": "d16d328d-bb1a-4851-df28-76321b04b57b"
      },
      "execution_count": 2,
      "outputs": [
        {
          "output_type": "execute_result",
          "data": {
            "text/plain": [
              "(tensor([[1.8629],\n",
              "         [1.3025],\n",
              "         [1.0037],\n",
              "         [1.4649],\n",
              "         [1.4229],\n",
              "         [2.0657],\n",
              "         [2.2467]]),\n",
              " torch.Size([7, 1]))"
            ]
          },
          "metadata": {},
          "execution_count": 2
        }
      ]
    },
    {
      "cell_type": "markdown",
      "source": [
        "membuat tensor lagi secara random dengan size 1x7 dan melakukan perkalian matriks dan harus transpose untuk tensor kedua agar tidak error dan mellihat shapenya"
      ],
      "metadata": {
        "id": "eoP_DzU1_Kng"
      }
    },
    {
      "cell_type": "markdown",
      "source": [
        "### 4. Set the random seed to `0` and do 2 & 3 over again.\n",
        "\n",
        "The output should be:\n",
        "```\n",
        "(tensor([[1.8542],\n",
        "         [1.9611],\n",
        "         [2.2884],\n",
        "         [3.0481],\n",
        "         [1.7067],\n",
        "         [2.5290],\n",
        "         [1.7989]]), torch.Size([7, 1]))\n",
        "```"
      ],
      "metadata": {
        "id": "eiutdKUFiryU"
      }
    },
    {
      "cell_type": "code",
      "source": [
        "# Set manual seed\n",
        "torch.manual_seed(0)\n",
        "\n",
        "# Create two random tensors\n",
        "X = torch.rand(size=(7, 7))\n",
        "Y = torch.rand(size=(1, 7))\n",
        "\n",
        "# Matrix multiply tensors\n",
        "Z = torch.matmul(X, Y.T)\n",
        "Z, Z.shape\n"
      ],
      "metadata": {
        "id": "D-lOWI_1jRMm",
        "colab": {
          "base_uri": "https://localhost:8080/"
        },
        "outputId": "18728287-f8c8-4653-8f8a-4f6fd92ca3ce"
      },
      "execution_count": 3,
      "outputs": [
        {
          "output_type": "execute_result",
          "data": {
            "text/plain": [
              "(tensor([[1.8542],\n",
              "         [1.9611],\n",
              "         [2.2884],\n",
              "         [3.0481],\n",
              "         [1.7067],\n",
              "         [2.5290],\n",
              "         [1.7989]]),\n",
              " torch.Size([7, 1]))"
            ]
          },
          "metadata": {},
          "execution_count": 3
        }
      ]
    },
    {
      "cell_type": "markdown",
      "source": [
        "torch.manual_seed(0): Mengatur seed (benih) untuk generator angka acak PyTorch sehingga nilai acak yang dihasilkan dapat direproduksi. Dengan seed yang sama, angka acak akan sama pada setiap eksekusi.\n",
        "\n",
        "X = torch.rand(size=(7, 7)): Membuat tensor X berukuran 7x7 yang diisi dengan angka acak dari distribusi seragam (uniform distribution) antara 0 dan 1.\n",
        "\n",
        "Y = torch.rand(size=(1, 7)): Membuat tensor Y berukuran 1x7 yang diisi dengan angka acak dari distribusi seragam antara 0 dan 1.\n",
        "\n",
        "Z = torch.matmul(X, Y.T): Melakukan perkalian matriks antara tensor X dan transpos dari tensor Y. .T digunakan untuk melakukan transposisi pada tensor Y."
      ],
      "metadata": {
        "id": "aZsuPPPT_6Kg"
      }
    },
    {
      "cell_type": "markdown",
      "source": [
        "### 5. Speaking of random seeds, we saw how to set it with `torch.manual_seed()` but is there a GPU equivalent? (hint: you'll need to look into the documentation for `torch.cuda` for this one)\n",
        "  * If there is, set the GPU random seed to `1234`."
      ],
      "metadata": {
        "id": "ezY6ks9Cis37"
      }
    },
    {
      "cell_type": "code",
      "source": [
        "\n",
        "# Set random seed on the GPU\n",
        "torch.cuda.manual_seed(1234)\n"
      ],
      "metadata": {
        "id": "_LKWcfSTjp00"
      },
      "execution_count": 4,
      "outputs": []
    },
    {
      "cell_type": "markdown",
      "source": [
        "melakukan set random seed ke GPU 1234"
      ],
      "metadata": {
        "id": "BZmdr8vv_7_s"
      }
    },
    {
      "cell_type": "markdown",
      "source": [
        "\n",
        "### 6. Create two random tensors of shape `(2, 3)` and send them both to the GPU (you'll need access to a GPU for this). Set `torch.manual_seed(1234)` when creating the tensors (this doesn't have to be the GPU random seed). The output should be something like:\n",
        "\n",
        "```\n",
        "Device: cuda\n",
        "(tensor([[0.0290, 0.4019, 0.2598],\n",
        "         [0.3666, 0.0583, 0.7006]], device='cuda:0'),\n",
        " tensor([[0.0518, 0.4681, 0.6738],\n",
        "         [0.3315, 0.7837, 0.5631]], device='cuda:0'))\n",
        "```"
      ],
      "metadata": {
        "id": "Ir9qSaj6it4n"
      }
    },
    {
      "cell_type": "code",
      "source": [
        "\n",
        "# Set random seed\n",
        "torch.manual_seed(1234)\n",
        "\n",
        "# Check for access to GPU\n",
        "device = \"cuda\" if torch.cuda.is_available() else \"cpu\"\n",
        "print(f\"Device: {device}\")\n",
        "\n",
        "# Create two random tensors on GPU\n",
        "tensor_A = torch.rand(size=(2,3)).to(device)\n",
        "tensor_B = torch.rand(size=(2,3)).to(device)\n",
        "tensor_A, tensor_B\n"
      ],
      "metadata": {
        "id": "azXExiFZj5nm",
        "colab": {
          "base_uri": "https://localhost:8080/"
        },
        "outputId": "d3f47bce-293a-41cb-8594-78490538986d"
      },
      "execution_count": 5,
      "outputs": [
        {
          "output_type": "stream",
          "name": "stdout",
          "text": [
            "Device: cuda\n"
          ]
        },
        {
          "output_type": "execute_result",
          "data": {
            "text/plain": [
              "(tensor([[0.0290, 0.4019, 0.2598],\n",
              "         [0.3666, 0.0583, 0.7006]], device='cuda:0'),\n",
              " tensor([[0.0518, 0.4681, 0.6738],\n",
              "         [0.3315, 0.7837, 0.5631]], device='cuda:0'))"
            ]
          },
          "metadata": {},
          "execution_count": 5
        }
      ]
    },
    {
      "cell_type": "markdown",
      "source": [
        "torch.manual_seed(1234): Menetapkan seed (benih) untuk generator angka acak PyTorch, memastikan bahwa nilai acak yang dihasilkan dapat direproduksi saat menggunakan fungsi-fungsi acak PyTorch.\n",
        "\n",
        "device = \"cuda\" if torch.cuda.is_available() else \"cpu\": Mengecek apakah akses ke GPU tersedia dalam lingkungan saat ini. Jika GPU tersedia, variabel device diatur ke \"cuda\" yang mengindikasikan penggunaan GPU; jika tidak, maka akan diatur ke \"cpu\" untuk menggunakan CPU.\n",
        "\n",
        "torch.rand(size=(2,3)).to(device): Membuat tensor acak dengan ukuran 2x3 dan memindahkannya ke perangkat yang telah ditentukan sebelumnya (GPU jika tersedia, atau CPU jika tidak)."
      ],
      "metadata": {
        "id": "cAi3QMvbAHfx"
      }
    },
    {
      "cell_type": "markdown",
      "source": [],
      "metadata": {
        "id": "hgH7k-hFAAdU"
      }
    },
    {
      "cell_type": "markdown",
      "source": [
        "\n",
        "### 7. Perform a matrix multiplication on the tensors you created in 6 (again, you may have to adjust the shapes of one of the tensors).\n",
        "\n",
        "The output should look like:\n",
        "```\n",
        "(tensor([[0.3647, 0.4709],\n",
        "         [0.5184, 0.5617]], device='cuda:0'), torch.Size([2, 2]))\n",
        "```"
      ],
      "metadata": {
        "id": "5TlAxeiSiu1y"
      }
    },
    {
      "cell_type": "code",
      "source": [
        "\n",
        "# Perform matmul on tensor_A and tensor_B\n",
        "tensor_C = torch.matmul(tensor_A, tensor_B.T)\n",
        "tensor_C, tensor_C.shape\n"
      ],
      "metadata": {
        "id": "fAeG7ox0lHEO",
        "colab": {
          "base_uri": "https://localhost:8080/"
        },
        "outputId": "fccaf9ea-7f8d-42a6-8495-339cb89ffd11"
      },
      "execution_count": 6,
      "outputs": [
        {
          "output_type": "execute_result",
          "data": {
            "text/plain": [
              "(tensor([[0.3647, 0.4709],\n",
              "         [0.5184, 0.5617]], device='cuda:0'),\n",
              " torch.Size([2, 2]))"
            ]
          },
          "metadata": {},
          "execution_count": 6
        }
      ]
    },
    {
      "cell_type": "markdown",
      "source": [
        "torch.matmul(tensor_A, tensor_B.T): Melakukan operasi perkalian matriks antara tensor_A (sebuah tensor 2x3) dan transpos dari tensor_B (sebuah tensor 2x3). .T digunakan untuk melakukan transposisi pada tensor_B, mengubah tensor tersebut menjadi matriks 3x2 sebelum melakukan perkalian matriks."
      ],
      "metadata": {
        "id": "wsEC_00KAQX7"
      }
    },
    {
      "cell_type": "markdown",
      "source": [],
      "metadata": {
        "id": "FvQIFJ1zAJYT"
      }
    },
    {
      "cell_type": "markdown",
      "source": [
        "### 8. Find the maximum and minimum values of the output of 7."
      ],
      "metadata": {
        "id": "G7qfa5CSivwg"
      }
    },
    {
      "cell_type": "code",
      "source": [
        "# Find max\n",
        "max = torch.max(tensor_C)\n",
        "\n",
        "# Find min\n",
        "min = torch.min(tensor_C)\n",
        "max, min"
      ],
      "metadata": {
        "id": "Fu8_3mZpllOd",
        "colab": {
          "base_uri": "https://localhost:8080/"
        },
        "outputId": "df00d9a4-9a0d-4f98-d808-3d4ab039a00b"
      },
      "execution_count": 12,
      "outputs": [
        {
          "output_type": "execute_result",
          "data": {
            "text/plain": [
              "(tensor(0.5617, device='cuda:0'), tensor(0.3647, device='cuda:0'))"
            ]
          },
          "metadata": {},
          "execution_count": 12
        }
      ]
    },
    {
      "cell_type": "markdown",
      "source": [
        "torch.max(tensor_C): Mengembalikan nilai maksimum dari seluruh elemen dalam tensor tensor_C.\n",
        "torch.min(tensor_C): Mengembalikan nilai minimum dari seluruh elemen dalam tensor tensor_C."
      ],
      "metadata": {
        "id": "uc-jUlnEAafB"
      }
    },
    {
      "cell_type": "markdown",
      "source": [
        "### 9. Find the maximum and minimum index values of the output of 7."
      ],
      "metadata": {
        "id": "wrTj5FgNiw47"
      }
    },
    {
      "cell_type": "code",
      "source": [
        "\n",
        "# Find arg max\n",
        "arg_max = torch.argmax(tensor_C)\n",
        "\n",
        "# Find arg min\n",
        "arg_min = torch.argmin(tensor_C)\n",
        "arg_max, arg_min\n"
      ],
      "metadata": {
        "id": "CCEKt4K2lsfQ",
        "colab": {
          "base_uri": "https://localhost:8080/"
        },
        "outputId": "e82ed094-5670-42ea-a99c-f9b221214487"
      },
      "execution_count": 8,
      "outputs": [
        {
          "output_type": "execute_result",
          "data": {
            "text/plain": [
              "(tensor(3, device='cuda:0'), tensor(0, device='cuda:0'))"
            ]
          },
          "metadata": {},
          "execution_count": 8
        }
      ]
    },
    {
      "cell_type": "markdown",
      "source": [
        "torch.argmax(tensor_C): Mengembalikan indeks dari nilai maksimum dalam tensor tensor_C. Ini mengembalikan indeks dari nilai terbesar dalam tensor, yang menunjukkan posisi di mana nilai maksimum tersebut terletak.\n",
        "\n",
        "torch.argmin(tensor_C): Mengembalikan indeks dari nilai minimum dalam tensor tensor_C. Ini mengembalikan indeks dari nilai terkecil dalam tensor, menunjukkan posisi di mana nilai minimum tersebut terletak."
      ],
      "metadata": {
        "id": "Ryoe_iASAk16"
      }
    },
    {
      "cell_type": "markdown",
      "source": [
        "\n",
        "### 10. Make a random tensor with shape `(1, 1, 1, 10)` and then create a new tensor with all the `1` dimensions removed to be left with a tensor of shape `(10)`. Set the seed to `7` when you create it and print out the first tensor and it's shape as well as the second tensor and it's shape.\n",
        "\n",
        "The output should look like:\n",
        "\n",
        "```\n",
        "tensor([[[[0.5349, 0.1988, 0.6592, 0.6569, 0.2328, 0.4251, 0.2071, 0.6297,\n",
        "           0.3653, 0.8513]]]]) torch.Size([1, 1, 1, 10])\n",
        "tensor([0.5349, 0.1988, 0.6592, 0.6569, 0.2328, 0.4251, 0.2071, 0.6297, 0.3653,\n",
        "        0.8513]) torch.Size([10])\n",
        "```"
      ],
      "metadata": {
        "id": "hmeybz4uixy7"
      }
    },
    {
      "cell_type": "code",
      "source": [
        "\n",
        "# Set seed\n",
        "torch.manual_seed(7)\n",
        "\n",
        "# Create random tensor\n",
        "tensor_D = torch.rand(size=(1, 1, 1, 10))\n",
        "\n",
        "# Remove single dimensions\n",
        "tensor_E = tensor_D.squeeze()\n",
        "\n",
        "# Print out tensors\n",
        "print(tensor_D, tensor_D.shape)\n",
        "print(tensor_E, tensor_E.shape)\n"
      ],
      "metadata": {
        "id": "TQ9zbRzVl1jV",
        "colab": {
          "base_uri": "https://localhost:8080/"
        },
        "outputId": "864dec92-230f-4af1-a3fe-6727f81cd82f"
      },
      "execution_count": 9,
      "outputs": [
        {
          "output_type": "stream",
          "name": "stdout",
          "text": [
            "tensor([[[[0.5349, 0.1988, 0.6592, 0.6569, 0.2328, 0.4251, 0.2071, 0.6297,\n",
            "           0.3653, 0.8513]]]]) torch.Size([1, 1, 1, 10])\n",
            "tensor([0.5349, 0.1988, 0.6592, 0.6569, 0.2328, 0.4251, 0.2071, 0.6297, 0.3653,\n",
            "        0.8513]) torch.Size([10])\n"
          ]
        }
      ]
    },
    {
      "cell_type": "markdown",
      "source": [
        "torch.manual_seed(7): Ini mengatur seed (benih) untuk generator angka acak PyTorch, memastikan bahwa nilai acak yang dihasilkan akan sama saat seed yang sama digunakan.\n",
        "\n",
        "tensor_D = torch.rand(size=(1, 1, 1, 10)): Membuat tensor acak tensor_D dengan ukuran (1, 1, 1, 10). Ini menghasilkan tensor dengan dimensi empat, dengan satu dimensi memiliki panjang 10 dan dimensi-dimensi lainnya memiliki panjang 1.\n",
        "\n",
        "tensor_E = tensor_D.squeeze(): Operasi squeeze() digunakan untuk menghapus dimensi-dimensi yang memiliki panjang 1 dari tensor. Dalam kasus ini, karena semua dimensi kecuali yang terakhir memiliki panjang 1, maka operasi squeeze() akan menghasilkan tensor dengan dimensi yang lebih rendah (yaitu, menghilangkan dimensi yang tidak perlu)."
      ],
      "metadata": {
        "id": "eHsMiZtqArXu"
      }
    }
  ]
}